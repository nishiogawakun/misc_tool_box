{
 "cells": [
  {
   "cell_type": "code",
   "execution_count": 15,
   "metadata": {},
   "outputs": [],
   "source": [
    "import snowflake.connector\n",
    "import pandas as pd\n",
    "from datetime import datetime\n",
    "from zoomtools import solr\n",
    "import random\n",
    "from sqlalchemy import create_engine\n",
    "from snowflake.sqlalchemy import URL\n",
    "from sqlalchemy.dialects import registry\n",
    "from snowflake.connector.pandas_tools import pd_writer # module not found\n",
    "registry.register('snowflake', 'snowflake.sqlalchemy', 'dialect')"
   ]
  },
  {
   "cell_type": "code",
   "execution_count": 2,
   "metadata": {},
   "outputs": [],
   "source": [
    "SF_URL = 'discoverorg.snowflakecomputing.com'\n",
    "SF_ACCOUNT = 'discoverorg'\n",
    "\n",
    "SF_USER = 'RWESTBROOK'\n",
    "SF_ROLE = 'DATA_STRATEGY'\n",
    "\n",
    "SF_WAREHOUSE = 'DATA_STRAT'\n",
    "SF_DATABASE = 'SANDBOX_DATA_STRATEGY'\n",
    "SF_SCHEMA = 'STAGING'"
   ]
  },
  {
   "cell_type": "code",
   "execution_count": 3,
   "metadata": {},
   "outputs": [],
   "source": [
    "SF_Options= {\n",
    "  'account' : SF_ACCOUNT,\n",
    "  'user' : SF_USER,\n",
    "  'warehouse' : SF_WAREHOUSE,\n",
    "  'schema': SF_SCHEMA,\n",
    "  'database': SF_DATABASE,\n",
    "  'role': SF_ROLE,\n",
    "  'authenticator': 'externalbrowser'\n",
    "  }"
   ]
  },
  {
   "cell_type": "code",
   "execution_count": 7,
   "metadata": {},
   "outputs": [],
   "source": [
    "ctx = snowflake.connector.connect(**SF_Options)\n",
    "\n",
    "cur = ctx.cursor() "
   ]
  },
  {
   "cell_type": "code",
   "execution_count": 5,
   "metadata": {},
   "outputs": [],
   "source": [
    "query = \"\"\"\n",
    "SELECT INDIVIDUAL_ID, PRIMARY_TITLE\n",
    "FROM PRODUCTION_DATA_DOZI.DOZI.PERSON\n",
    "LIMIT 10\n",
    ";\n",
    "\"\"\""
   ]
  },
  {
   "cell_type": "code",
   "execution_count": 10,
   "metadata": {},
   "outputs": [],
   "source": [
    "cur = ctx.cursor().execute(query)\n",
    "sample_query = pd.DataFrame.from_records(iter(cur), columns=[x[0] for x in cur.description])"
   ]
  },
  {
   "cell_type": "code",
   "execution_count": 11,
   "metadata": {},
   "outputs": [
    {
     "data": {
      "text/html": [
       "<div>\n",
       "<style scoped>\n",
       "    .dataframe tbody tr th:only-of-type {\n",
       "        vertical-align: middle;\n",
       "    }\n",
       "\n",
       "    .dataframe tbody tr th {\n",
       "        vertical-align: top;\n",
       "    }\n",
       "\n",
       "    .dataframe thead th {\n",
       "        text-align: right;\n",
       "    }\n",
       "</style>\n",
       "<table border=\"1\" class=\"dataframe\">\n",
       "  <thead>\n",
       "    <tr style=\"text-align: right;\">\n",
       "      <th></th>\n",
       "      <th>INDIVIDUAL_ID</th>\n",
       "      <th>PRIMARY_TITLE</th>\n",
       "    </tr>\n",
       "  </thead>\n",
       "  <tbody>\n",
       "    <tr>\n",
       "      <th>0</th>\n",
       "      <td>4022754854</td>\n",
       "      <td>None</td>\n",
       "    </tr>\n",
       "    <tr>\n",
       "      <th>1</th>\n",
       "      <td>4022785046</td>\n",
       "      <td>Manager, Catering</td>\n",
       "    </tr>\n",
       "    <tr>\n",
       "      <th>2</th>\n",
       "      <td>4023046227</td>\n",
       "      <td>E-Mobility Proposal Engineer</td>\n",
       "    </tr>\n",
       "    <tr>\n",
       "      <th>3</th>\n",
       "      <td>4023277989</td>\n",
       "      <td>Authorized Real Estate Advisor</td>\n",
       "    </tr>\n",
       "    <tr>\n",
       "      <th>4</th>\n",
       "      <td>4023761003</td>\n",
       "      <td>None</td>\n",
       "    </tr>\n",
       "    <tr>\n",
       "      <th>5</th>\n",
       "      <td>4023794807</td>\n",
       "      <td>Electro-Mechanical Engineering Technician</td>\n",
       "    </tr>\n",
       "    <tr>\n",
       "      <th>6</th>\n",
       "      <td>4023797158</td>\n",
       "      <td>None</td>\n",
       "    </tr>\n",
       "    <tr>\n",
       "      <th>7</th>\n",
       "      <td>4023850279</td>\n",
       "      <td>None</td>\n",
       "    </tr>\n",
       "    <tr>\n",
       "      <th>8</th>\n",
       "      <td>4023920967</td>\n",
       "      <td>Postdoctoral Fellow, Pharmacometrics</td>\n",
       "    </tr>\n",
       "    <tr>\n",
       "      <th>9</th>\n",
       "      <td>4024112905</td>\n",
       "      <td>French Teacher</td>\n",
       "    </tr>\n",
       "  </tbody>\n",
       "</table>\n",
       "</div>"
      ],
      "text/plain": [
       "   INDIVIDUAL_ID                              PRIMARY_TITLE\n",
       "0     4022754854                                       None\n",
       "1     4022785046                          Manager, Catering\n",
       "2     4023046227               E-Mobility Proposal Engineer\n",
       "3     4023277989             Authorized Real Estate Advisor\n",
       "4     4023761003                                       None\n",
       "5     4023794807  Electro-Mechanical Engineering Technician\n",
       "6     4023797158                                       None\n",
       "7     4023850279                                       None\n",
       "8     4023920967       Postdoctoral Fellow, Pharmacometrics\n",
       "9     4024112905                             French Teacher"
      ]
     },
     "execution_count": 11,
     "metadata": {},
     "output_type": "execute_result"
    }
   ],
   "source": [
    "sample_query"
   ]
  },
  {
   "cell_type": "code",
   "execution_count": 16,
   "metadata": {},
   "outputs": [],
   "source": [
    "# send this new data straight into Snowflake\n",
    "\n",
    "sf = create_engine(URL(**SF_Options))\n",
    "test = pd.DataFrame(sample_query) # replace sample_query with dataframe name\n",
    "test.to_sql(name='test',con=sf, index=False, method=pd_writer) # name = table name to be written to Snowflake"
   ]
  },
  {
   "cell_type": "code",
   "execution_count": null,
   "metadata": {},
   "outputs": [],
   "source": []
  }
 ],
 "metadata": {
  "kernelspec": {
   "display_name": "Python 3",
   "language": "python",
   "name": "python3"
  },
  "language_info": {
   "codemirror_mode": {
    "name": "ipython",
    "version": 3
   },
   "file_extension": ".py",
   "mimetype": "text/x-python",
   "name": "python",
   "nbconvert_exporter": "python",
   "pygments_lexer": "ipython3",
   "version": "3.7.6"
  },
  "varInspector": {
   "cols": {
    "lenName": 16,
    "lenType": 16,
    "lenVar": 40
   },
   "kernels_config": {
    "python": {
     "delete_cmd_postfix": "",
     "delete_cmd_prefix": "del ",
     "library": "var_list.py",
     "varRefreshCmd": "print(var_dic_list())"
    },
    "r": {
     "delete_cmd_postfix": ") ",
     "delete_cmd_prefix": "rm(",
     "library": "var_list.r",
     "varRefreshCmd": "cat(var_dic_list()) "
    }
   },
   "types_to_exclude": [
    "module",
    "function",
    "builtin_function_or_method",
    "instance",
    "_Feature"
   ],
   "window_display": false
  }
 },
 "nbformat": 4,
 "nbformat_minor": 4
}
